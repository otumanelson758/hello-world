{
 "cells": [
  {
   "cell_type": "markdown",
   "id": "e15079fc",
   "metadata": {},
   "source": [
    "# Using Parametric Model\n",
    "The parametric models assumes that the majority of the sata points are governed by some well known probability distribution,e.g Gaussian, binomial and such. Anomaly will be detected as an observation that do not fit the overall distribution of the data.An example of some datasets from 3 large corporations(Microsoft,Ford Motor and Bank of America)"
   ]
  },
  {
   "cell_type": "code",
   "execution_count": 1,
   "id": "5bff94eb",
   "metadata": {},
   "outputs": [],
   "source": [
    "import pandas as pd\n",
    "import numpy as np"
   ]
  },
  {
   "cell_type": "code",
   "execution_count": 2,
   "id": "a41fc521",
   "metadata": {},
   "outputs": [],
   "source": [
    "stocks=pd.read_csv('stocks.csv',header='infer')"
   ]
  },
  {
   "cell_type": "code",
   "execution_count": 3,
   "id": "999dbdc2",
   "metadata": {},
   "outputs": [
    {
     "data": {
      "text/html": [
       "<div>\n",
       "<style scoped>\n",
       "    .dataframe tbody tr th:only-of-type {\n",
       "        vertical-align: middle;\n",
       "    }\n",
       "\n",
       "    .dataframe tbody tr th {\n",
       "        vertical-align: top;\n",
       "    }\n",
       "\n",
       "    .dataframe thead th {\n",
       "        text-align: right;\n",
       "    }\n",
       "</style>\n",
       "<table border=\"1\" class=\"dataframe\">\n",
       "  <thead>\n",
       "    <tr style=\"text-align: right;\">\n",
       "      <th></th>\n",
       "      <th>Date</th>\n",
       "      <th>MSFT</th>\n",
       "      <th>F</th>\n",
       "      <th>BAC</th>\n",
       "    </tr>\n",
       "  </thead>\n",
       "  <tbody>\n",
       "    <tr>\n",
       "      <th>0</th>\n",
       "      <td>01/03/2007</td>\n",
       "      <td>29.860001</td>\n",
       "      <td>7.51</td>\n",
       "      <td>53.330002</td>\n",
       "    </tr>\n",
       "    <tr>\n",
       "      <th>1</th>\n",
       "      <td>01/04/2007</td>\n",
       "      <td>29.809999</td>\n",
       "      <td>7.70</td>\n",
       "      <td>53.669998</td>\n",
       "    </tr>\n",
       "    <tr>\n",
       "      <th>2</th>\n",
       "      <td>01/05/2007</td>\n",
       "      <td>29.639999</td>\n",
       "      <td>7.62</td>\n",
       "      <td>53.240002</td>\n",
       "    </tr>\n",
       "    <tr>\n",
       "      <th>3</th>\n",
       "      <td>01/08/2007</td>\n",
       "      <td>29.930000</td>\n",
       "      <td>7.73</td>\n",
       "      <td>53.450001</td>\n",
       "    </tr>\n",
       "    <tr>\n",
       "      <th>4</th>\n",
       "      <td>01/09/2007</td>\n",
       "      <td>29.959999</td>\n",
       "      <td>7.79</td>\n",
       "      <td>53.500000</td>\n",
       "    </tr>\n",
       "  </tbody>\n",
       "</table>\n",
       "</div>"
      ],
      "text/plain": [
       "         Date       MSFT     F        BAC\n",
       "0  01/03/2007  29.860001  7.51  53.330002\n",
       "1  01/04/2007  29.809999  7.70  53.669998\n",
       "2  01/05/2007  29.639999  7.62  53.240002\n",
       "3  01/08/2007  29.930000  7.73  53.450001\n",
       "4  01/09/2007  29.959999  7.79  53.500000"
      ]
     },
     "execution_count": 3,
     "metadata": {},
     "output_type": "execute_result"
    }
   ],
   "source": [
    "stocks.head()"
   ]
  },
  {
   "cell_type": "code",
   "execution_count": 4,
   "id": "7dab0916",
   "metadata": {},
   "outputs": [
    {
     "data": {
      "text/html": [
       "<div>\n",
       "<style scoped>\n",
       "    .dataframe tbody tr th:only-of-type {\n",
       "        vertical-align: middle;\n",
       "    }\n",
       "\n",
       "    .dataframe tbody tr th {\n",
       "        vertical-align: top;\n",
       "    }\n",
       "\n",
       "    .dataframe thead th {\n",
       "        text-align: right;\n",
       "    }\n",
       "</style>\n",
       "<table border=\"1\" class=\"dataframe\">\n",
       "  <thead>\n",
       "    <tr style=\"text-align: right;\">\n",
       "      <th></th>\n",
       "      <th>Date</th>\n",
       "      <th>MSFT</th>\n",
       "      <th>F</th>\n",
       "      <th>BAC</th>\n",
       "    </tr>\n",
       "  </thead>\n",
       "  <tbody>\n",
       "    <tr>\n",
       "      <th>2513</th>\n",
       "      <td>12/23/2016</td>\n",
       "      <td>63.240002</td>\n",
       "      <td>12.46</td>\n",
       "      <td>22.600000</td>\n",
       "    </tr>\n",
       "    <tr>\n",
       "      <th>2514</th>\n",
       "      <td>12/27/2016</td>\n",
       "      <td>63.279999</td>\n",
       "      <td>12.39</td>\n",
       "      <td>22.610001</td>\n",
       "    </tr>\n",
       "    <tr>\n",
       "      <th>2515</th>\n",
       "      <td>12/28/2016</td>\n",
       "      <td>62.990002</td>\n",
       "      <td>12.25</td>\n",
       "      <td>22.330000</td>\n",
       "    </tr>\n",
       "    <tr>\n",
       "      <th>2516</th>\n",
       "      <td>12/29/2016</td>\n",
       "      <td>62.900002</td>\n",
       "      <td>12.23</td>\n",
       "      <td>22.000000</td>\n",
       "    </tr>\n",
       "    <tr>\n",
       "      <th>2517</th>\n",
       "      <td>12/30/2016</td>\n",
       "      <td>62.139999</td>\n",
       "      <td>12.13</td>\n",
       "      <td>22.100000</td>\n",
       "    </tr>\n",
       "  </tbody>\n",
       "</table>\n",
       "</div>"
      ],
      "text/plain": [
       "            Date       MSFT      F        BAC\n",
       "2513  12/23/2016  63.240002  12.46  22.600000\n",
       "2514  12/27/2016  63.279999  12.39  22.610001\n",
       "2515  12/28/2016  62.990002  12.25  22.330000\n",
       "2516  12/29/2016  62.900002  12.23  22.000000\n",
       "2517  12/30/2016  62.139999  12.13  22.100000"
      ]
     },
     "execution_count": 4,
     "metadata": {},
     "output_type": "execute_result"
    }
   ],
   "source": [
    "stocks.tail()"
   ]
  },
  {
   "cell_type": "code",
   "execution_count": 5,
   "id": "778a64de",
   "metadata": {},
   "outputs": [
    {
     "name": "stdout",
     "output_type": "stream",
     "text": [
      "<class 'pandas.core.frame.DataFrame'>\n",
      "RangeIndex: 2518 entries, 0 to 2517\n",
      "Data columns (total 4 columns):\n",
      " #   Column  Non-Null Count  Dtype  \n",
      "---  ------  --------------  -----  \n",
      " 0   Date    2518 non-null   object \n",
      " 1   MSFT    2518 non-null   float64\n",
      " 2   F       2518 non-null   float64\n",
      " 3   BAC     2518 non-null   float64\n",
      "dtypes: float64(3), object(1)\n",
      "memory usage: 78.8+ KB\n"
     ]
    }
   ],
   "source": [
    "stocks.info()"
   ]
  },
  {
   "cell_type": "code",
   "execution_count": 6,
   "id": "cd1f28bc",
   "metadata": {},
   "outputs": [
    {
     "data": {
      "text/html": [
       "<div>\n",
       "<style scoped>\n",
       "    .dataframe tbody tr th:only-of-type {\n",
       "        vertical-align: middle;\n",
       "    }\n",
       "\n",
       "    .dataframe tbody tr th {\n",
       "        vertical-align: top;\n",
       "    }\n",
       "\n",
       "    .dataframe thead th {\n",
       "        text-align: right;\n",
       "    }\n",
       "</style>\n",
       "<table border=\"1\" class=\"dataframe\">\n",
       "  <thead>\n",
       "    <tr style=\"text-align: right;\">\n",
       "      <th></th>\n",
       "      <th>MSFT</th>\n",
       "      <th>F</th>\n",
       "      <th>BAC</th>\n",
       "    </tr>\n",
       "  </thead>\n",
       "  <tbody>\n",
       "    <tr>\n",
       "      <th>count</th>\n",
       "      <td>2518.000000</td>\n",
       "      <td>2518.000000</td>\n",
       "      <td>2518.000000</td>\n",
       "    </tr>\n",
       "    <tr>\n",
       "      <th>mean</th>\n",
       "      <td>33.993987</td>\n",
       "      <td>11.493773</td>\n",
       "      <td>18.762538</td>\n",
       "    </tr>\n",
       "    <tr>\n",
       "      <th>std</th>\n",
       "      <td>10.549777</td>\n",
       "      <td>4.051391</td>\n",
       "      <td>12.305850</td>\n",
       "    </tr>\n",
       "    <tr>\n",
       "      <th>min</th>\n",
       "      <td>15.150000</td>\n",
       "      <td>1.260000</td>\n",
       "      <td>3.140000</td>\n",
       "    </tr>\n",
       "    <tr>\n",
       "      <th>25%</th>\n",
       "      <td>26.770000</td>\n",
       "      <td>8.370000</td>\n",
       "      <td>12.240000</td>\n",
       "    </tr>\n",
       "    <tr>\n",
       "      <th>50%</th>\n",
       "      <td>29.980000</td>\n",
       "      <td>12.260000</td>\n",
       "      <td>15.250000</td>\n",
       "    </tr>\n",
       "    <tr>\n",
       "      <th>75%</th>\n",
       "      <td>41.475000</td>\n",
       "      <td>14.830000</td>\n",
       "      <td>17.370001</td>\n",
       "    </tr>\n",
       "    <tr>\n",
       "      <th>max</th>\n",
       "      <td>63.619999</td>\n",
       "      <td>18.790001</td>\n",
       "      <td>54.049999</td>\n",
       "    </tr>\n",
       "  </tbody>\n",
       "</table>\n",
       "</div>"
      ],
      "text/plain": [
       "              MSFT            F          BAC\n",
       "count  2518.000000  2518.000000  2518.000000\n",
       "mean     33.993987    11.493773    18.762538\n",
       "std      10.549777     4.051391    12.305850\n",
       "min      15.150000     1.260000     3.140000\n",
       "25%      26.770000     8.370000    12.240000\n",
       "50%      29.980000    12.260000    15.250000\n",
       "75%      41.475000    14.830000    17.370001\n",
       "max      63.619999    18.790001    54.049999"
      ]
     },
     "execution_count": 6,
     "metadata": {},
     "output_type": "execute_result"
    }
   ],
   "source": [
    "stocks.describe()"
   ]
  },
  {
   "cell_type": "code",
   "execution_count": 7,
   "id": "58a28f41",
   "metadata": {},
   "outputs": [],
   "source": [
    "stocks.index=stocks['Date']"
   ]
  },
  {
   "cell_type": "code",
   "execution_count": 8,
   "id": "3a0b3e1b",
   "metadata": {},
   "outputs": [
    {
     "data": {
      "text/html": [
       "<div>\n",
       "<style scoped>\n",
       "    .dataframe tbody tr th:only-of-type {\n",
       "        vertical-align: middle;\n",
       "    }\n",
       "\n",
       "    .dataframe tbody tr th {\n",
       "        vertical-align: top;\n",
       "    }\n",
       "\n",
       "    .dataframe thead th {\n",
       "        text-align: right;\n",
       "    }\n",
       "</style>\n",
       "<table border=\"1\" class=\"dataframe\">\n",
       "  <thead>\n",
       "    <tr style=\"text-align: right;\">\n",
       "      <th></th>\n",
       "      <th>Date</th>\n",
       "      <th>MSFT</th>\n",
       "      <th>F</th>\n",
       "      <th>BAC</th>\n",
       "    </tr>\n",
       "    <tr>\n",
       "      <th>Date</th>\n",
       "      <th></th>\n",
       "      <th></th>\n",
       "      <th></th>\n",
       "      <th></th>\n",
       "    </tr>\n",
       "  </thead>\n",
       "  <tbody>\n",
       "    <tr>\n",
       "      <th>01/03/2007</th>\n",
       "      <td>01/03/2007</td>\n",
       "      <td>29.860001</td>\n",
       "      <td>7.51</td>\n",
       "      <td>53.330002</td>\n",
       "    </tr>\n",
       "    <tr>\n",
       "      <th>01/04/2007</th>\n",
       "      <td>01/04/2007</td>\n",
       "      <td>29.809999</td>\n",
       "      <td>7.70</td>\n",
       "      <td>53.669998</td>\n",
       "    </tr>\n",
       "    <tr>\n",
       "      <th>01/05/2007</th>\n",
       "      <td>01/05/2007</td>\n",
       "      <td>29.639999</td>\n",
       "      <td>7.62</td>\n",
       "      <td>53.240002</td>\n",
       "    </tr>\n",
       "    <tr>\n",
       "      <th>01/08/2007</th>\n",
       "      <td>01/08/2007</td>\n",
       "      <td>29.930000</td>\n",
       "      <td>7.73</td>\n",
       "      <td>53.450001</td>\n",
       "    </tr>\n",
       "    <tr>\n",
       "      <th>01/09/2007</th>\n",
       "      <td>01/09/2007</td>\n",
       "      <td>29.959999</td>\n",
       "      <td>7.79</td>\n",
       "      <td>53.500000</td>\n",
       "    </tr>\n",
       "  </tbody>\n",
       "</table>\n",
       "</div>"
      ],
      "text/plain": [
       "                  Date       MSFT     F        BAC\n",
       "Date                                              \n",
       "01/03/2007  01/03/2007  29.860001  7.51  53.330002\n",
       "01/04/2007  01/04/2007  29.809999  7.70  53.669998\n",
       "01/05/2007  01/05/2007  29.639999  7.62  53.240002\n",
       "01/08/2007  01/08/2007  29.930000  7.73  53.450001\n",
       "01/09/2007  01/09/2007  29.959999  7.79  53.500000"
      ]
     },
     "execution_count": 8,
     "metadata": {},
     "output_type": "execute_result"
    }
   ],
   "source": [
    "stocks.head()"
   ]
  },
  {
   "cell_type": "code",
   "execution_count": 9,
   "id": "a9135877",
   "metadata": {},
   "outputs": [],
   "source": [
    "stocks=stocks.drop(['Date'], axis=1)"
   ]
  },
  {
   "cell_type": "code",
   "execution_count": 12,
   "id": "b004140f",
   "metadata": {},
   "outputs": [
    {
     "data": {
      "text/html": [
       "<div>\n",
       "<style scoped>\n",
       "    .dataframe tbody tr th:only-of-type {\n",
       "        vertical-align: middle;\n",
       "    }\n",
       "\n",
       "    .dataframe tbody tr th {\n",
       "        vertical-align: top;\n",
       "    }\n",
       "\n",
       "    .dataframe thead th {\n",
       "        text-align: right;\n",
       "    }\n",
       "</style>\n",
       "<table border=\"1\" class=\"dataframe\">\n",
       "  <thead>\n",
       "    <tr style=\"text-align: right;\">\n",
       "      <th></th>\n",
       "      <th>MSFT</th>\n",
       "      <th>F</th>\n",
       "      <th>BAC</th>\n",
       "    </tr>\n",
       "    <tr>\n",
       "      <th>Date</th>\n",
       "      <th></th>\n",
       "      <th></th>\n",
       "      <th></th>\n",
       "    </tr>\n",
       "  </thead>\n",
       "  <tbody>\n",
       "    <tr>\n",
       "      <th>06/03/2008</th>\n",
       "      <td>27.309999</td>\n",
       "      <td>6.680000</td>\n",
       "      <td>33.310001</td>\n",
       "    </tr>\n",
       "    <tr>\n",
       "      <th>06/08/2009</th>\n",
       "      <td>22.049999</td>\n",
       "      <td>6.380000</td>\n",
       "      <td>12.060000</td>\n",
       "    </tr>\n",
       "    <tr>\n",
       "      <th>6/28/2010</th>\n",
       "      <td>24.309999</td>\n",
       "      <td>10.430000</td>\n",
       "      <td>15.240000</td>\n",
       "    </tr>\n",
       "    <tr>\n",
       "      <th>8/15/2014</th>\n",
       "      <td>44.790001</td>\n",
       "      <td>17.309999</td>\n",
       "      <td>15.220000</td>\n",
       "    </tr>\n",
       "    <tr>\n",
       "      <th>7/25/2016</th>\n",
       "      <td>56.730000</td>\n",
       "      <td>13.830000</td>\n",
       "      <td>14.370000</td>\n",
       "    </tr>\n",
       "  </tbody>\n",
       "</table>\n",
       "</div>"
      ],
      "text/plain": [
       "                 MSFT          F        BAC\n",
       "Date                                       \n",
       "06/03/2008  27.309999   6.680000  33.310001\n",
       "06/08/2009  22.049999   6.380000  12.060000\n",
       "6/28/2010   24.309999  10.430000  15.240000\n",
       "8/15/2014   44.790001  17.309999  15.220000\n",
       "7/25/2016   56.730000  13.830000  14.370000"
      ]
     },
     "execution_count": 12,
     "metadata": {},
     "output_type": "execute_result"
    }
   ],
   "source": [
    "stocks.sample(5)"
   ]
  },
  {
   "cell_type": "markdown",
   "id": "2e05ed37",
   "metadata": {},
   "source": [
    "We want to calculate the precentage change \n",
    "we use $ \\delta (t)=100 * (x_t-x_(t-1))/x_(t-1)$ where $x_t$ price of the day and $x_(t-1) $ is the previous day "
   ]
  },
  {
   "cell_type": "code",
   "execution_count": 13,
   "id": "700dbc0b",
   "metadata": {},
   "outputs": [],
   "source": [
    "import numpy as np"
   ]
  },
  {
   "cell_type": "code",
   "execution_count": 15,
   "id": "5293ba9b",
   "metadata": {},
   "outputs": [],
   "source": [
    "N, d= stocks.shape"
   ]
  },
  {
   "cell_type": "code",
   "execution_count": 16,
   "id": "5486a860",
   "metadata": {},
   "outputs": [
    {
     "data": {
      "text/plain": [
       "2518"
      ]
     },
     "execution_count": 16,
     "metadata": {},
     "output_type": "execute_result"
    }
   ],
   "source": [
    "N"
   ]
  },
  {
   "cell_type": "code",
   "execution_count": 17,
   "id": "09cc9d46",
   "metadata": {},
   "outputs": [
    {
     "data": {
      "text/plain": [
       "3"
      ]
     },
     "execution_count": 17,
     "metadata": {},
     "output_type": "execute_result"
    }
   ],
   "source": [
    "d"
   ]
  },
  {
   "cell_type": "code",
   "execution_count": 19,
   "id": "ac121f6f",
   "metadata": {},
   "outputs": [],
   "source": [
    "delta= pd.DataFrame(100*np.divide(stocks.iloc[1:,:].values - stocks.iloc[:N-1,:].values, stocks.iloc[:N-1,:].values), columns=stocks.columns, index=stocks.iloc[1:].index)"
   ]
  },
  {
   "cell_type": "code",
   "execution_count": 20,
   "id": "18d62685",
   "metadata": {},
   "outputs": [
    {
     "data": {
      "text/html": [
       "<div>\n",
       "<style scoped>\n",
       "    .dataframe tbody tr th:only-of-type {\n",
       "        vertical-align: middle;\n",
       "    }\n",
       "\n",
       "    .dataframe tbody tr th {\n",
       "        vertical-align: top;\n",
       "    }\n",
       "\n",
       "    .dataframe thead th {\n",
       "        text-align: right;\n",
       "    }\n",
       "</style>\n",
       "<table border=\"1\" class=\"dataframe\">\n",
       "  <thead>\n",
       "    <tr style=\"text-align: right;\">\n",
       "      <th></th>\n",
       "      <th>MSFT</th>\n",
       "      <th>F</th>\n",
       "      <th>BAC</th>\n",
       "    </tr>\n",
       "    <tr>\n",
       "      <th>Date</th>\n",
       "      <th></th>\n",
       "      <th></th>\n",
       "      <th></th>\n",
       "    </tr>\n",
       "  </thead>\n",
       "  <tbody>\n",
       "    <tr>\n",
       "      <th>01/04/2007</th>\n",
       "      <td>-0.167455</td>\n",
       "      <td>2.529960</td>\n",
       "      <td>0.637532</td>\n",
       "    </tr>\n",
       "    <tr>\n",
       "      <th>01/05/2007</th>\n",
       "      <td>-0.570278</td>\n",
       "      <td>-1.038961</td>\n",
       "      <td>-0.801185</td>\n",
       "    </tr>\n",
       "    <tr>\n",
       "      <th>01/08/2007</th>\n",
       "      <td>0.978411</td>\n",
       "      <td>1.443570</td>\n",
       "      <td>0.394438</td>\n",
       "    </tr>\n",
       "    <tr>\n",
       "      <th>01/09/2007</th>\n",
       "      <td>0.100231</td>\n",
       "      <td>0.776197</td>\n",
       "      <td>0.093543</td>\n",
       "    </tr>\n",
       "    <tr>\n",
       "      <th>01/10/2007</th>\n",
       "      <td>-1.001332</td>\n",
       "      <td>-0.770218</td>\n",
       "      <td>0.149536</td>\n",
       "    </tr>\n",
       "    <tr>\n",
       "      <th>...</th>\n",
       "      <td>...</td>\n",
       "      <td>...</td>\n",
       "      <td>...</td>\n",
       "    </tr>\n",
       "    <tr>\n",
       "      <th>12/23/2016</th>\n",
       "      <td>-0.487800</td>\n",
       "      <td>0.483871</td>\n",
       "      <td>0.266189</td>\n",
       "    </tr>\n",
       "    <tr>\n",
       "      <th>12/27/2016</th>\n",
       "      <td>0.063246</td>\n",
       "      <td>-0.561798</td>\n",
       "      <td>0.044252</td>\n",
       "    </tr>\n",
       "    <tr>\n",
       "      <th>12/28/2016</th>\n",
       "      <td>-0.458276</td>\n",
       "      <td>-1.129944</td>\n",
       "      <td>-1.238394</td>\n",
       "    </tr>\n",
       "    <tr>\n",
       "      <th>12/29/2016</th>\n",
       "      <td>-0.142880</td>\n",
       "      <td>-0.163265</td>\n",
       "      <td>-1.477833</td>\n",
       "    </tr>\n",
       "    <tr>\n",
       "      <th>12/30/2016</th>\n",
       "      <td>-1.208272</td>\n",
       "      <td>-0.817661</td>\n",
       "      <td>0.454545</td>\n",
       "    </tr>\n",
       "  </tbody>\n",
       "</table>\n",
       "<p>2517 rows × 3 columns</p>\n",
       "</div>"
      ],
      "text/plain": [
       "                MSFT         F       BAC\n",
       "Date                                    \n",
       "01/04/2007 -0.167455  2.529960  0.637532\n",
       "01/05/2007 -0.570278 -1.038961 -0.801185\n",
       "01/08/2007  0.978411  1.443570  0.394438\n",
       "01/09/2007  0.100231  0.776197  0.093543\n",
       "01/10/2007 -1.001332 -0.770218  0.149536\n",
       "...              ...       ...       ...\n",
       "12/23/2016 -0.487800  0.483871  0.266189\n",
       "12/27/2016  0.063246 -0.561798  0.044252\n",
       "12/28/2016 -0.458276 -1.129944 -1.238394\n",
       "12/29/2016 -0.142880 -0.163265 -1.477833\n",
       "12/30/2016 -1.208272 -0.817661  0.454545\n",
       "\n",
       "[2517 rows x 3 columns]"
      ]
     },
     "execution_count": 20,
     "metadata": {},
     "output_type": "execute_result"
    }
   ],
   "source": [
    "delta"
   ]
  },
  {
   "cell_type": "code",
   "execution_count": 21,
   "id": "35f0fb40",
   "metadata": {},
   "outputs": [
    {
     "data": {
      "text/html": [
       "<div>\n",
       "<style scoped>\n",
       "    .dataframe tbody tr th:only-of-type {\n",
       "        vertical-align: middle;\n",
       "    }\n",
       "\n",
       "    .dataframe tbody tr th {\n",
       "        vertical-align: top;\n",
       "    }\n",
       "\n",
       "    .dataframe thead th {\n",
       "        text-align: right;\n",
       "    }\n",
       "</style>\n",
       "<table border=\"1\" class=\"dataframe\">\n",
       "  <thead>\n",
       "    <tr style=\"text-align: right;\">\n",
       "      <th></th>\n",
       "      <th>MSFT</th>\n",
       "      <th>F</th>\n",
       "      <th>BAC</th>\n",
       "    </tr>\n",
       "    <tr>\n",
       "      <th>Date</th>\n",
       "      <th></th>\n",
       "      <th></th>\n",
       "      <th></th>\n",
       "    </tr>\n",
       "  </thead>\n",
       "  <tbody>\n",
       "    <tr>\n",
       "      <th>01/04/2007</th>\n",
       "      <td>-0.167455</td>\n",
       "      <td>2.529960</td>\n",
       "      <td>0.637532</td>\n",
       "    </tr>\n",
       "    <tr>\n",
       "      <th>01/05/2007</th>\n",
       "      <td>-0.570278</td>\n",
       "      <td>-1.038961</td>\n",
       "      <td>-0.801185</td>\n",
       "    </tr>\n",
       "    <tr>\n",
       "      <th>01/08/2007</th>\n",
       "      <td>0.978411</td>\n",
       "      <td>1.443570</td>\n",
       "      <td>0.394438</td>\n",
       "    </tr>\n",
       "    <tr>\n",
       "      <th>01/09/2007</th>\n",
       "      <td>0.100231</td>\n",
       "      <td>0.776197</td>\n",
       "      <td>0.093543</td>\n",
       "    </tr>\n",
       "    <tr>\n",
       "      <th>01/10/2007</th>\n",
       "      <td>-1.001332</td>\n",
       "      <td>-0.770218</td>\n",
       "      <td>0.149536</td>\n",
       "    </tr>\n",
       "  </tbody>\n",
       "</table>\n",
       "</div>"
      ],
      "text/plain": [
       "                MSFT         F       BAC\n",
       "Date                                    \n",
       "01/04/2007 -0.167455  2.529960  0.637532\n",
       "01/05/2007 -0.570278 -1.038961 -0.801185\n",
       "01/08/2007  0.978411  1.443570  0.394438\n",
       "01/09/2007  0.100231  0.776197  0.093543\n",
       "01/10/2007 -1.001332 -0.770218  0.149536"
      ]
     },
     "execution_count": 21,
     "metadata": {},
     "output_type": "execute_result"
    }
   ],
   "source": [
    "delta.head()"
   ]
  },
  {
   "cell_type": "code",
   "execution_count": 22,
   "id": "b92f4ab4",
   "metadata": {},
   "outputs": [
    {
     "data": {
      "text/html": [
       "<div>\n",
       "<style scoped>\n",
       "    .dataframe tbody tr th:only-of-type {\n",
       "        vertical-align: middle;\n",
       "    }\n",
       "\n",
       "    .dataframe tbody tr th {\n",
       "        vertical-align: top;\n",
       "    }\n",
       "\n",
       "    .dataframe thead th {\n",
       "        text-align: right;\n",
       "    }\n",
       "</style>\n",
       "<table border=\"1\" class=\"dataframe\">\n",
       "  <thead>\n",
       "    <tr style=\"text-align: right;\">\n",
       "      <th></th>\n",
       "      <th>MSFT</th>\n",
       "      <th>F</th>\n",
       "      <th>BAC</th>\n",
       "    </tr>\n",
       "    <tr>\n",
       "      <th>Date</th>\n",
       "      <th></th>\n",
       "      <th></th>\n",
       "      <th></th>\n",
       "    </tr>\n",
       "  </thead>\n",
       "  <tbody>\n",
       "    <tr>\n",
       "      <th>01/03/2007</th>\n",
       "      <td>29.860001</td>\n",
       "      <td>7.51</td>\n",
       "      <td>53.330002</td>\n",
       "    </tr>\n",
       "    <tr>\n",
       "      <th>01/04/2007</th>\n",
       "      <td>29.809999</td>\n",
       "      <td>7.70</td>\n",
       "      <td>53.669998</td>\n",
       "    </tr>\n",
       "    <tr>\n",
       "      <th>01/05/2007</th>\n",
       "      <td>29.639999</td>\n",
       "      <td>7.62</td>\n",
       "      <td>53.240002</td>\n",
       "    </tr>\n",
       "    <tr>\n",
       "      <th>01/08/2007</th>\n",
       "      <td>29.930000</td>\n",
       "      <td>7.73</td>\n",
       "      <td>53.450001</td>\n",
       "    </tr>\n",
       "    <tr>\n",
       "      <th>01/09/2007</th>\n",
       "      <td>29.959999</td>\n",
       "      <td>7.79</td>\n",
       "      <td>53.500000</td>\n",
       "    </tr>\n",
       "  </tbody>\n",
       "</table>\n",
       "</div>"
      ],
      "text/plain": [
       "                 MSFT     F        BAC\n",
       "Date                                  \n",
       "01/03/2007  29.860001  7.51  53.330002\n",
       "01/04/2007  29.809999  7.70  53.669998\n",
       "01/05/2007  29.639999  7.62  53.240002\n",
       "01/08/2007  29.930000  7.73  53.450001\n",
       "01/09/2007  29.959999  7.79  53.500000"
      ]
     },
     "execution_count": 22,
     "metadata": {},
     "output_type": "execute_result"
    }
   ],
   "source": [
    "stocks.head()"
   ]
  },
  {
   "cell_type": "code",
   "execution_count": 24,
   "id": "b6ff1d3a",
   "metadata": {},
   "outputs": [
    {
     "data": {
      "text/plain": [
       "-0.16745478340740583"
      ]
     },
     "execution_count": 24,
     "metadata": {},
     "output_type": "execute_result"
    }
   ],
   "source": [
    "(29.809999-29.860001)/29.860001*100"
   ]
  },
  {
   "cell_type": "code",
   "execution_count": 25,
   "id": "f52fd4d7",
   "metadata": {},
   "outputs": [],
   "source": [
    "#Plot the values in a 3D"
   ]
  },
  {
   "cell_type": "code",
   "execution_count": 28,
   "id": "2aca13d3",
   "metadata": {},
   "outputs": [],
   "source": [
    "from mpl_toolkits.mplot3d import Axes3D"
   ]
  },
  {
   "cell_type": "code",
   "execution_count": 29,
   "id": "8c10c333",
   "metadata": {},
   "outputs": [],
   "source": [
    "import matplotlib.pyplot as plt"
   ]
  },
  {
   "cell_type": "code",
   "execution_count": 30,
   "id": "18f8355a",
   "metadata": {},
   "outputs": [],
   "source": [
    "%matplotlib inline"
   ]
  },
  {
   "cell_type": "code",
   "execution_count": 31,
   "id": "7ccc7c8d",
   "metadata": {},
   "outputs": [
    {
     "data": {
      "image/png": "[encoded data removed]",
      "text/plain": [
       "<Figure size 576x360 with 1 Axes>"
      ]
     },
     "metadata": {
      "needs_background": "light"
     },
     "output_type": "display_data"
    }
   ],
   "source": [
    "fig=plt.figure(figsize=(8,5)).gca(projection='3d')\n",
    "fig.scatter(delta.MSFT, delta.F,delta.BAC)\n",
    "fig.set_xlabel('Microsoft')\n",
    "fig.set_ylabel('Ford')\n",
    "fig.set_zlabel('Bank of America')\n",
    "plt.show()"
   ]
  },
  {
   "cell_type": "markdown",
   "id": "b9e2c688",
   "metadata": {},
   "source": [
    "Assume the data follows a multivariate Gaussian distribution. So compute the mean and Covariance matrix of 3-dimensional data."
   ]
  },
  {
   "cell_type": "code",
   "execution_count": 32,
   "id": "65fa213e",
   "metadata": {},
   "outputs": [],
   "source": [
    "meanValue=delta.mean()"
   ]
  },
  {
   "cell_type": "code",
   "execution_count": 33,
   "id": "3301ea43",
   "metadata": {},
   "outputs": [
    {
     "data": {
      "text/plain": [
       "MSFT    0.045003\n",
       "F       0.061374\n",
       "BAC     0.033351\n",
       "dtype: float64"
      ]
     },
     "execution_count": 33,
     "metadata": {},
     "output_type": "execute_result"
    }
   ],
   "source": [
    "meanValue"
   ]
  },
  {
   "cell_type": "code",
   "execution_count": 34,
   "id": "0953324a",
   "metadata": {},
   "outputs": [],
   "source": [
    "covValue=delta.cov()"
   ]
  },
  {
   "cell_type": "code",
   "execution_count": 35,
   "id": "a0ac0a7b",
   "metadata": {},
   "outputs": [
    {
     "data": {
      "text/html": [
       "<div>\n",
       "<style scoped>\n",
       "    .dataframe tbody tr th:only-of-type {\n",
       "        vertical-align: middle;\n",
       "    }\n",
       "\n",
       "    .dataframe tbody tr th {\n",
       "        vertical-align: top;\n",
       "    }\n",
       "\n",
       "    .dataframe thead th {\n",
       "        text-align: right;\n",
       "    }\n",
       "</style>\n",
       "<table border=\"1\" class=\"dataframe\">\n",
       "  <thead>\n",
       "    <tr style=\"text-align: right;\">\n",
       "      <th></th>\n",
       "      <th>MSFT</th>\n",
       "      <th>F</th>\n",
       "      <th>BAC</th>\n",
       "    </tr>\n",
       "  </thead>\n",
       "  <tbody>\n",
       "    <tr>\n",
       "      <th>MSFT</th>\n",
       "      <td>3.191674</td>\n",
       "      <td>2.136351</td>\n",
       "      <td>2.788870</td>\n",
       "    </tr>\n",
       "    <tr>\n",
       "      <th>F</th>\n",
       "      <td>2.136351</td>\n",
       "      <td>8.524944</td>\n",
       "      <td>4.997405</td>\n",
       "    </tr>\n",
       "    <tr>\n",
       "      <th>BAC</th>\n",
       "      <td>2.788870</td>\n",
       "      <td>4.997405</td>\n",
       "      <td>13.770761</td>\n",
       "    </tr>\n",
       "  </tbody>\n",
       "</table>\n",
       "</div>"
      ],
      "text/plain": [
       "          MSFT         F        BAC\n",
       "MSFT  3.191674  2.136351   2.788870\n",
       "F     2.136351  8.524944   4.997405\n",
       "BAC   2.788870  4.997405  13.770761"
      ]
     },
     "execution_count": 35,
     "metadata": {},
     "output_type": "execute_result"
    }
   ],
   "source": [
    "covValue"
   ]
  },
  {
   "cell_type": "code",
   "execution_count": 36,
   "id": "dc5dca41",
   "metadata": {},
   "outputs": [],
   "source": [
    "#We then use the distance measures to determine the anomalous trading days."
   ]
  },
  {
   "cell_type": "markdown",
   "id": "3a9d2c3e",
   "metadata": {},
   "source": [
    "The formula is: $Maharanobis(x) = (x-\\bar{x}) \\sum^({-1} (x-\\bar{x})^{T}$"
   ]
  },
  {
   "cell_type": "code",
   "execution_count": 39,
   "id": "171b1dbe",
   "metadata": {},
   "outputs": [],
   "source": [
    "from numpy.linalg import inv"
   ]
  },
  {
   "cell_type": "code",
   "execution_count": 40,
   "id": "49e004a5",
   "metadata": {},
   "outputs": [],
   "source": [
    "X=delta.to_numpy()"
   ]
  },
  {
   "cell_type": "code",
   "execution_count": 41,
   "id": "d7da7626",
   "metadata": {},
   "outputs": [
    {
     "data": {
      "text/plain": [
       "array([[-0.16745478,  2.52996005,  0.63753232],\n",
       "       [-0.57027845, -1.03896104, -0.80118505],\n",
       "       [ 0.97841096,  1.44356955,  0.39443838],\n",
       "       ...,\n",
       "       [-0.45827592, -1.1299435 , -1.23839446],\n",
       "       [-0.14287982, -0.16326531, -1.47783251],\n",
       "       [-1.20827182, -0.81766149,  0.45454545]])"
      ]
     },
     "execution_count": 41,
     "metadata": {},
     "output_type": "execute_result"
    }
   ],
   "source": [
    "X"
   ]
  },
  {
   "cell_type": "code",
   "execution_count": 42,
   "id": "42b38e2b",
   "metadata": {},
   "outputs": [],
   "source": [
    "S=covValue.to_numpy()"
   ]
  },
  {
   "cell_type": "code",
   "execution_count": 43,
   "id": "62704e6c",
   "metadata": {},
   "outputs": [
    {
     "data": {
      "text/plain": [
       "array([[ 3.19167433,  2.1363511 ,  2.78886962],\n",
       "       [ 2.1363511 ,  8.52494366,  4.99740498],\n",
       "       [ 2.78886962,  4.99740498, 13.7707607 ]])"
      ]
     },
     "execution_count": 43,
     "metadata": {},
     "output_type": "execute_result"
    }
   ],
   "source": [
    "S"
   ]
  },
  {
   "cell_type": "code",
   "execution_count": 44,
   "id": "fe8499e7",
   "metadata": {},
   "outputs": [
    {
     "data": {
      "text/plain": [
       "numpy.ndarray"
      ]
     },
     "execution_count": 44,
     "metadata": {},
     "output_type": "execute_result"
    }
   ],
   "source": [
    "type(S)"
   ]
  },
  {
   "cell_type": "code",
   "execution_count": 45,
   "id": "f589eab7",
   "metadata": {},
   "outputs": [],
   "source": [
    "for i in range(3):\n",
    "    X[:,i]=X[:,i] - meanValue[i]"
   ]
  },
  {
   "cell_type": "code",
   "execution_count": 50,
   "id": "dcf19233",
   "metadata": {},
   "outputs": [],
   "source": [
    "def mahalanobis(row):\n",
    "    return np.matmul(row,S).dot(row)"
   ]
  },
  {
   "cell_type": "code",
   "execution_count": 51,
   "id": "9ca63828",
   "metadata": {},
   "outputs": [],
   "source": [
    "anomaly_score =np.apply_along_axis(mahalanobis, axis=1, arr=X)"
   ]
  },
  {
   "cell_type": "code",
   "execution_count": 52,
   "id": "3fe900ab",
   "metadata": {},
   "outputs": [
    {
     "data": {
      "text/plain": [
       "array([69.07129591, 36.05502792, 33.24355484, ..., 56.45369823,\n",
       "       37.14774392, 12.10566607])"
      ]
     },
     "execution_count": 52,
     "metadata": {},
     "output_type": "execute_result"
    }
   ],
   "source": [
    "anomaly_score"
   ]
  },
  {
   "cell_type": "code",
   "execution_count": 56,
   "id": "139af653",
   "metadata": {},
   "outputs": [
    {
     "data": {
      "image/png": "[encoded data removed]",
      "text/plain": [
       "<Figure size 720x432 with 2 Axes>"
      ]
     },
     "metadata": {
      "needs_background": "light"
     },
     "output_type": "display_data"
    }
   ],
   "source": [
    "fig=plt.figure(figsize=(10,6))\n",
    "ax=fig.add_subplot(111, projection='3d')\n",
    "p=ax.scatter(delta.MSFT, delta.F, delta.BAC, c=anomaly_score, cmap='jet')\n",
    "ax.set_xlabel('Microsoft')\n",
    "ax.set_ylabel('Ford')\n",
    "ax.set_zlabel('Bank of America')\n",
    "fig.colorbar(p)\n",
    "plt.show()"
   ]
  },
  {
   "cell_type": "code",
   "execution_count": 62,
   "id": "c7b403e2",
   "metadata": {},
   "outputs": [],
   "source": [
    "anom=pd.DataFrame(anomaly_score, index=delta.index, columns=['Anomaly Score'])"
   ]
  },
  {
   "cell_type": "code",
   "execution_count": 63,
   "id": "54c5f10c",
   "metadata": {},
   "outputs": [
    {
     "data": {
      "text/html": [
       "<div>\n",
       "<style scoped>\n",
       "    .dataframe tbody tr th:only-of-type {\n",
       "        vertical-align: middle;\n",
       "    }\n",
       "\n",
       "    .dataframe tbody tr th {\n",
       "        vertical-align: top;\n",
       "    }\n",
       "\n",
       "    .dataframe thead th {\n",
       "        text-align: right;\n",
       "    }\n",
       "</style>\n",
       "<table border=\"1\" class=\"dataframe\">\n",
       "  <thead>\n",
       "    <tr style=\"text-align: right;\">\n",
       "      <th></th>\n",
       "      <th>Anomaly Score</th>\n",
       "    </tr>\n",
       "    <tr>\n",
       "      <th>Date</th>\n",
       "      <th></th>\n",
       "    </tr>\n",
       "  </thead>\n",
       "  <tbody>\n",
       "    <tr>\n",
       "      <th>01/04/2007</th>\n",
       "      <td>69.071296</td>\n",
       "    </tr>\n",
       "    <tr>\n",
       "      <th>01/05/2007</th>\n",
       "      <td>36.055028</td>\n",
       "    </tr>\n",
       "    <tr>\n",
       "      <th>01/08/2007</th>\n",
       "      <td>33.243555</td>\n",
       "    </tr>\n",
       "    <tr>\n",
       "      <th>01/09/2007</th>\n",
       "      <td>5.032897</td>\n",
       "    </tr>\n",
       "    <tr>\n",
       "      <th>01/10/2007</th>\n",
       "      <td>11.649589</td>\n",
       "    </tr>\n",
       "    <tr>\n",
       "      <th>...</th>\n",
       "      <td>...</td>\n",
       "    </tr>\n",
       "    <tr>\n",
       "      <th>12/23/2016</th>\n",
       "      <td>2.503794</td>\n",
       "    </tr>\n",
       "    <tr>\n",
       "      <th>12/27/2016</th>\n",
       "      <td>3.197937</td>\n",
       "    </tr>\n",
       "    <tr>\n",
       "      <th>12/28/2016</th>\n",
       "      <td>56.453698</td>\n",
       "    </tr>\n",
       "    <tr>\n",
       "      <th>12/29/2016</th>\n",
       "      <td>37.147744</td>\n",
       "    </tr>\n",
       "    <tr>\n",
       "      <th>12/30/2016</th>\n",
       "      <td>12.105666</td>\n",
       "    </tr>\n",
       "  </tbody>\n",
       "</table>\n",
       "<p>2517 rows × 1 columns</p>\n",
       "</div>"
      ],
      "text/plain": [
       "            Anomaly Score\n",
       "Date                     \n",
       "01/04/2007      69.071296\n",
       "01/05/2007      36.055028\n",
       "01/08/2007      33.243555\n",
       "01/09/2007       5.032897\n",
       "01/10/2007      11.649589\n",
       "...                   ...\n",
       "12/23/2016       2.503794\n",
       "12/27/2016       3.197937\n",
       "12/28/2016      56.453698\n",
       "12/29/2016      37.147744\n",
       "12/30/2016      12.105666\n",
       "\n",
       "[2517 rows x 1 columns]"
      ]
     },
     "execution_count": 63,
     "metadata": {},
     "output_type": "execute_result"
    }
   ],
   "source": [
    "anom"
   ]
  },
  {
   "cell_type": "code",
   "execution_count": 64,
   "id": "0a905b9c",
   "metadata": {},
   "outputs": [],
   "source": [
    "result=pd.concat((delta,anom), axis=1)"
   ]
  },
  {
   "cell_type": "code",
   "execution_count": 65,
   "id": "3e7d5447",
   "metadata": {},
   "outputs": [
    {
     "data": {
      "text/html": [
       "<div>\n",
       "<style scoped>\n",
       "    .dataframe tbody tr th:only-of-type {\n",
       "        vertical-align: middle;\n",
       "    }\n",
       "\n",
       "    .dataframe tbody tr th {\n",
       "        vertical-align: top;\n",
       "    }\n",
       "\n",
       "    .dataframe thead th {\n",
       "        text-align: right;\n",
       "    }\n",
       "</style>\n",
       "<table border=\"1\" class=\"dataframe\">\n",
       "  <thead>\n",
       "    <tr style=\"text-align: right;\">\n",
       "      <th></th>\n",
       "      <th>MSFT</th>\n",
       "      <th>F</th>\n",
       "      <th>BAC</th>\n",
       "      <th>Anomaly Score</th>\n",
       "    </tr>\n",
       "    <tr>\n",
       "      <th>Date</th>\n",
       "      <th></th>\n",
       "      <th></th>\n",
       "      <th></th>\n",
       "      <th></th>\n",
       "    </tr>\n",
       "  </thead>\n",
       "  <tbody>\n",
       "    <tr>\n",
       "      <th>01/04/2007</th>\n",
       "      <td>-0.212458</td>\n",
       "      <td>2.468586</td>\n",
       "      <td>0.604182</td>\n",
       "      <td>69.071296</td>\n",
       "    </tr>\n",
       "    <tr>\n",
       "      <th>01/05/2007</th>\n",
       "      <td>-0.615281</td>\n",
       "      <td>-1.100335</td>\n",
       "      <td>-0.834536</td>\n",
       "      <td>36.055028</td>\n",
       "    </tr>\n",
       "    <tr>\n",
       "      <th>01/08/2007</th>\n",
       "      <td>0.933408</td>\n",
       "      <td>1.382195</td>\n",
       "      <td>0.361088</td>\n",
       "      <td>33.243555</td>\n",
       "    </tr>\n",
       "    <tr>\n",
       "      <th>01/09/2007</th>\n",
       "      <td>0.055228</td>\n",
       "      <td>0.714822</td>\n",
       "      <td>0.060193</td>\n",
       "      <td>5.032897</td>\n",
       "    </tr>\n",
       "    <tr>\n",
       "      <th>01/10/2007</th>\n",
       "      <td>-1.046335</td>\n",
       "      <td>-0.831592</td>\n",
       "      <td>0.116186</td>\n",
       "      <td>11.649589</td>\n",
       "    </tr>\n",
       "    <tr>\n",
       "      <th>...</th>\n",
       "      <td>...</td>\n",
       "      <td>...</td>\n",
       "      <td>...</td>\n",
       "      <td>...</td>\n",
       "    </tr>\n",
       "    <tr>\n",
       "      <th>12/23/2016</th>\n",
       "      <td>-0.532803</td>\n",
       "      <td>0.422497</td>\n",
       "      <td>0.232838</td>\n",
       "      <td>2.503794</td>\n",
       "    </tr>\n",
       "    <tr>\n",
       "      <th>12/27/2016</th>\n",
       "      <td>0.018244</td>\n",
       "      <td>-0.623172</td>\n",
       "      <td>0.010901</td>\n",
       "      <td>3.197937</td>\n",
       "    </tr>\n",
       "    <tr>\n",
       "      <th>12/28/2016</th>\n",
       "      <td>-0.503279</td>\n",
       "      <td>-1.191318</td>\n",
       "      <td>-1.271745</td>\n",
       "      <td>56.453698</td>\n",
       "    </tr>\n",
       "    <tr>\n",
       "      <th>12/29/2016</th>\n",
       "      <td>-0.187883</td>\n",
       "      <td>-0.224639</td>\n",
       "      <td>-1.511183</td>\n",
       "      <td>37.147744</td>\n",
       "    </tr>\n",
       "    <tr>\n",
       "      <th>12/30/2016</th>\n",
       "      <td>-1.253275</td>\n",
       "      <td>-0.879036</td>\n",
       "      <td>0.421195</td>\n",
       "      <td>12.105666</td>\n",
       "    </tr>\n",
       "  </tbody>\n",
       "</table>\n",
       "<p>2517 rows × 4 columns</p>\n",
       "</div>"
      ],
      "text/plain": [
       "                MSFT         F       BAC  Anomaly Score\n",
       "Date                                                   \n",
       "01/04/2007 -0.212458  2.468586  0.604182      69.071296\n",
       "01/05/2007 -0.615281 -1.100335 -0.834536      36.055028\n",
       "01/08/2007  0.933408  1.382195  0.361088      33.243555\n",
       "01/09/2007  0.055228  0.714822  0.060193       5.032897\n",
       "01/10/2007 -1.046335 -0.831592  0.116186      11.649589\n",
       "...              ...       ...       ...            ...\n",
       "12/23/2016 -0.532803  0.422497  0.232838       2.503794\n",
       "12/27/2016  0.018244 -0.623172  0.010901       3.197937\n",
       "12/28/2016 -0.503279 -1.191318 -1.271745      56.453698\n",
       "12/29/2016 -0.187883 -0.224639 -1.511183      37.147744\n",
       "12/30/2016 -1.253275 -0.879036  0.421195      12.105666\n",
       "\n",
       "[2517 rows x 4 columns]"
      ]
     },
     "execution_count": 65,
     "metadata": {},
     "output_type": "execute_result"
    }
   ],
   "source": [
    "result"
   ]
  },
  {
   "cell_type": "code",
   "execution_count": 68,
   "id": "4b28d39e",
   "metadata": {},
   "outputs": [
    {
     "data": {
      "text/html": [
       "<div>\n",
       "<style scoped>\n",
       "    .dataframe tbody tr th:only-of-type {\n",
       "        vertical-align: middle;\n",
       "    }\n",
       "\n",
       "    .dataframe tbody tr th {\n",
       "        vertical-align: top;\n",
       "    }\n",
       "\n",
       "    .dataframe thead th {\n",
       "        text-align: right;\n",
       "    }\n",
       "</style>\n",
       "<table border=\"1\" class=\"dataframe\">\n",
       "  <thead>\n",
       "    <tr style=\"text-align: right;\">\n",
       "      <th></th>\n",
       "      <th>MSFT</th>\n",
       "      <th>F</th>\n",
       "      <th>BAC</th>\n",
       "      <th>Anomaly Score</th>\n",
       "    </tr>\n",
       "    <tr>\n",
       "      <th>Date</th>\n",
       "      <th></th>\n",
       "      <th></th>\n",
       "      <th></th>\n",
       "      <th></th>\n",
       "    </tr>\n",
       "  </thead>\n",
       "  <tbody>\n",
       "    <tr>\n",
       "      <th>04/09/2009</th>\n",
       "      <td>2.456295</td>\n",
       "      <td>7.280398</td>\n",
       "      <td>35.235771</td>\n",
       "      <td>20691.465032</td>\n",
       "    </tr>\n",
       "    <tr>\n",
       "      <th>10/07/2008</th>\n",
       "      <td>-6.789282</td>\n",
       "      <td>-20.928583</td>\n",
       "      <td>-26.259300</td>\n",
       "      <td>20471.095209</td>\n",
       "    </tr>\n",
       "  </tbody>\n",
       "</table>\n",
       "</div>"
      ],
      "text/plain": [
       "                MSFT          F        BAC  Anomaly Score\n",
       "Date                                                     \n",
       "04/09/2009  2.456295   7.280398  35.235771   20691.465032\n",
       "10/07/2008 -6.789282 -20.928583 -26.259300   20471.095209"
      ]
     },
     "execution_count": 68,
     "metadata": {},
     "output_type": "execute_result"
    }
   ],
   "source": [
    "result.nlargest(2, 'Anomaly Score')"
   ]
  },
  {
   "cell_type": "code",
   "execution_count": 72,
   "id": "86b28b6e",
   "metadata": {},
   "outputs": [
    {
     "data": {
      "text/plain": [
       "Text(0, 0.5, 'Percentage Change')"
      ]
     },
     "execution_count": 72,
     "metadata": {},
     "output_type": "execute_result"
    },
    {
     "data": {
      "image/png": "[encoded data removed]",
      "text/plain": [
       "<Figure size 1080x432 with 2 Axes>"
      ]
     },
     "metadata": {
      "needs_background": "light"
     },
     "output_type": "display_data"
    }
   ],
   "source": [
    "#Plot to show where this anomalies occured\n",
    "fig, (ax1,ax2) = plt.subplots(nrows=1, ncols=2, figsize=(15,6))\n",
    "ts=delta[440:447]\n",
    "ts.plot.line(ax=ax1)\n",
    "ax1.set_xticks(range(7))\n",
    "ax1.set_xticklabels(ts.index)\n",
    "ax1.set_ylabel(\"Percentage Change\")\n",
    "\n",
    "ts=delta[568:575]\n",
    "ts.plot.line(ax=ax2)\n",
    "ax1.set_xticks(range(7))\n",
    "ax1.set_xticklabels(ts.index)\n",
    "ax1.set_ylabel(\"Percentage Change\")"
   ]
  },
  {
   "cell_type": "markdown",
   "id": "f091526c",
   "metadata": {},
   "source": [
    "# Using the Distance-Based Approach"
   ]
  },
  {
   "cell_type": "code",
   "execution_count": null,
   "id": "0701d98f",
   "metadata": {},
   "outputs": [],
   "source": []
  }
 ],
 "metadata": {
  "kernelspec": {
   "display_name": "Python 3",
   "language": "python",
   "name": "python3"
  },
  "language_info": {
   "codemirror_mode": {
    "name": "ipython",
    "version": 3
   },
   "file_extension": ".py",
   "mimetype": "text/x-python",
   "name": "python",
   "nbconvert_exporter": "python",
   "pygments_lexer": "ipython3",
   "version": "3.8.8"
  }
 },
 "nbformat": 4,
 "nbformat_minor": 5
}
