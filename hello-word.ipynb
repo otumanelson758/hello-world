import numpy as np
import matplotlib.pyplot as plt #Uses Matplotlib to visualize the data

x_train = np.linspace(-1, 1, 101) #The input values are 101 evenly spaced numbers between –1 and 1.
y_train = 2 * x_train + np.random.randn(*x_train.shape) * 0.33 #The output values are proportional to the input,
                                                                #but with added noise.

plt.scatter(x_train, y_train) #Uses Matplotlib’s function to generate a scatter plot of the data
plt.show()
