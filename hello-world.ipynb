print("Hellow-world")
print("Hellow-world")
print("Hellow-world")print("Hellow-world")print("Hellow-world")print("Hellow-world")
print("Hellow-world")
/* 1. Which branch had the highest gross income?
We use the sum() function and "as" to
rename specified column. We also wrap the column
"gross income" with quotes since it has spaces
in between */


/* Observation: Branch A had the highest gross
income of $ 5,265.17 followed by Branch B and C
with gross income of $ 5057.16 and $ 5057.03
respectively. */

/* 2. Which branch was the highest-rated? */



/* Observation: Branch C was the highest rated
with a rating of 7.07, while Branch A and B
had a rating of 7.03 and 6.82 respectively. */

/* 3. Which branch was the highest-rated? */




/* 4. Should the company spend more costs on
advertising to normal clients or clients
who are members? */



/* 5. What type of products should the company
focus on increasing marketing sales? */



/* 6. What type of products should they should
the company focus on reducing marketing costs?
We decide to investigate the types of products
which have the lowest gross income.
*/
